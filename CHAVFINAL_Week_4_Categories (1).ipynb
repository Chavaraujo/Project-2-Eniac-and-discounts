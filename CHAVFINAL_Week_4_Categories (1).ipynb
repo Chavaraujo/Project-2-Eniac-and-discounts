{
 "cells": [
  {
   "cell_type": "markdown",
   "metadata": {
    "id": "M6FJhHnfbywg"
   },
   "source": [
    "## Import modules"
   ]
  },
  {
   "cell_type": "code",
   "execution_count": 1,
   "metadata": {
    "id": "54kh-xeR1YL6",
    "tags": []
   },
   "outputs": [],
   "source": [
    "import pandas as pd\n",
    "import re"
   ]
  },
  {
   "cell_type": "markdown",
   "metadata": {
    "id": "w6bwcokGb5Dg"
   },
   "source": [
    "## Set display options"
   ]
  },
  {
   "cell_type": "code",
   "execution_count": 2,
   "metadata": {
    "id": "qBtV-pwab7kq",
    "tags": []
   },
   "outputs": [],
   "source": [
    "pd.set_option('display.max_rows', 1000)\n",
    "pd.set_option(\"display.max_colwidth\", 100)\n",
    "\n",
    "import warnings\n",
    "warnings.filterwarnings('ignore')"
   ]
  },
  {
   "cell_type": "markdown",
   "metadata": {
    "id": "ESA8GmJ6b2Pf"
   },
   "source": [
    "## Load data"
   ]
  },
  {
   "cell_type": "code",
   "execution_count": 3,
   "metadata": {
    "id": "6PlKCqZi1HjP",
    "tags": []
   },
   "outputs": [],
   "source": [
    "url = \"https://drive.google.com/file/d/1N2BR7RENmubj7E7nBn6k6XEE8hPDtlcV/view?usp=share_link\"\n",
    "path = \"https://drive.google.com/uc?export=download&id=\"+url.split(\"/\")[-2]\n",
    "products = pd.read_csv(path)"
   ]
  },
  {
   "cell_type": "code",
   "execution_count": null,
   "metadata": {},
   "outputs": [],
   "source": []
  },
  {
   "cell_type": "markdown",
   "metadata": {
    "id": "ONisIT0kcCJG"
   },
   "source": [
    "## Get sorted list of n most common types"
   ]
  },
  {
   "cell_type": "code",
   "execution_count": 4,
   "metadata": {
    "id": "XSacrZdx1XuA",
    "tags": []
   },
   "outputs": [],
   "source": [
    "n = 30\n",
    "top_types = products.groupby(\"type\", as_index=False).count().nlargest(n, \"sku\")[\"type\"].to_list()"
   ]
  },
  {
   "cell_type": "markdown",
   "metadata": {
    "id": "NoKRox4scOms"
   },
   "source": [
    "## Display products of each type to determine category"
   ]
  },
  {
   "cell_type": "code",
   "execution_count": 5,
   "metadata": {
    "colab": {
     "base_uri": "https://localhost:8080/",
     "height": 1000
    },
    "id": "v9CT1ybKcWVW",
    "outputId": "b2d4155e-9982-4f46-8613-621ee63107e6",
    "tags": []
   },
   "outputs": [
    {
     "name": "stdout",
     "output_type": "stream",
     "text": [
      "Type: 2449, Count: 107\n"
     ]
    },
    {
     "data": {
      "text/html": [
       "<div>\n",
       "<style scoped>\n",
       "    .dataframe tbody tr th:only-of-type {\n",
       "        vertical-align: middle;\n",
       "    }\n",
       "\n",
       "    .dataframe tbody tr th {\n",
       "        vertical-align: top;\n",
       "    }\n",
       "\n",
       "    .dataframe thead th {\n",
       "        text-align: right;\n",
       "    }\n",
       "</style>\n",
       "<table border=\"1\" class=\"dataframe\">\n",
       "  <thead>\n",
       "    <tr style=\"text-align: right;\">\n",
       "      <th></th>\n",
       "      <th>sku</th>\n",
       "      <th>name</th>\n",
       "      <th>desc</th>\n",
       "      <th>price</th>\n",
       "      <th>in_stock</th>\n",
       "      <th>type</th>\n",
       "    </tr>\n",
       "  </thead>\n",
       "  <tbody>\n",
       "    <tr>\n",
       "      <th>5605</th>\n",
       "      <td>APP1790</td>\n",
       "      <td>Apple Correa 38mm Sports Blue Ocean</td>\n",
       "      <td>Durable and flexible strap sports with clip closure for Apple Watch 38mm</td>\n",
       "      <td>59.00</td>\n",
       "      <td>0</td>\n",
       "      <td>2449</td>\n",
       "    </tr>\n",
       "    <tr>\n",
       "      <th>3638</th>\n",
       "      <td>BAN0016</td>\n",
       "      <td>Force Band &amp; Strap 42mm Apple Watch Strap Black</td>\n",
       "      <td>Fabric strap for easy installation Apple Watch 42mm.</td>\n",
       "      <td>69.00</td>\n",
       "      <td>0</td>\n",
       "      <td>2449</td>\n",
       "    </tr>\n",
       "    <tr>\n",
       "      <th>2328</th>\n",
       "      <td>XDO0017</td>\n",
       "      <td>X-Doria Lux Apple Watch Strap Black 38mm</td>\n",
       "      <td>Leather strap for easy installation Apple Watch.</td>\n",
       "      <td>30.99</td>\n",
       "      <td>0</td>\n",
       "      <td>2449</td>\n",
       "    </tr>\n",
       "    <tr>\n",
       "      <th>8257</th>\n",
       "      <td>ICA0083</td>\n",
       "      <td>Incase Leather Strap Band Apple Watch 38mm brown</td>\n",
       "      <td>Genuine leather strap with stainless steel buckle Apple Watch 38 mm</td>\n",
       "      <td>59.95</td>\n",
       "      <td>0</td>\n",
       "      <td>2449</td>\n",
       "    </tr>\n",
       "    <tr>\n",
       "      <th>7918</th>\n",
       "      <td>APP2104</td>\n",
       "      <td>Apple Correa 38mm Deportiva Rosa Flamenco</td>\n",
       "      <td>Durable and flexible strap sports lockable clip Apple Watch 38mm</td>\n",
       "      <td>59.00</td>\n",
       "      <td>0</td>\n",
       "      <td>2449</td>\n",
       "    </tr>\n",
       "    <tr>\n",
       "      <th>5621</th>\n",
       "      <td>APP1796</td>\n",
       "      <td>Apple Strap Orange 38mm Braiding Nailon Space / Anthracite</td>\n",
       "      <td>Braided nylon strap with four layers of tissue for Apple Watch 38 mm</td>\n",
       "      <td>59.00</td>\n",
       "      <td>0</td>\n",
       "      <td>2449</td>\n",
       "    </tr>\n",
       "    <tr>\n",
       "      <th>8258</th>\n",
       "      <td>ICA0087</td>\n",
       "      <td>Incase Nylon Nato Strap 42mm Red Apple Watch</td>\n",
       "      <td>Nylon belt finish and adjustable buckle anodized aluminum Apple Watch 42 mm</td>\n",
       "      <td>39.95</td>\n",
       "      <td>1</td>\n",
       "      <td>2449</td>\n",
       "    </tr>\n",
       "    <tr>\n",
       "      <th>5613</th>\n",
       "      <td>APP1803</td>\n",
       "      <td>Apple Classic buckle strap 38mm Blue Sea</td>\n",
       "      <td>Apple strap classic design with calfskin tone for Apple Watch 38 mm</td>\n",
       "      <td>159.00</td>\n",
       "      <td>0</td>\n",
       "      <td>2449</td>\n",
       "    </tr>\n",
       "    <tr>\n",
       "      <th>5622</th>\n",
       "      <td>APP1797</td>\n",
       "      <td>Apple Correa 38mm Braiding Nailon Pale Pink / Blue Night</td>\n",
       "      <td>Braided nylon strap with four layers of tissue for Apple Watch 38 mm</td>\n",
       "      <td>59.00</td>\n",
       "      <td>0</td>\n",
       "      <td>2449</td>\n",
       "    </tr>\n",
       "    <tr>\n",
       "      <th>7140</th>\n",
       "      <td>HOC0014</td>\n",
       "      <td>Hoco Milanese Edition Apple Watch Strap 42mm Silver</td>\n",
       "      <td>Stainless steel strap silver Hoco for Apple Watch 42mm</td>\n",
       "      <td>89.00</td>\n",
       "      <td>0</td>\n",
       "      <td>2449</td>\n",
       "    </tr>\n",
       "    <tr>\n",
       "      <th>3634</th>\n",
       "      <td>BAN0012</td>\n",
       "      <td>Panama Band &amp; Strap Strap Red 42mm Apple Watch</td>\n",
       "      <td>Leather strap for easy installation Apple Watch 42mm.</td>\n",
       "      <td>59.00</td>\n",
       "      <td>0</td>\n",
       "      <td>2449</td>\n",
       "    </tr>\n",
       "    <tr>\n",
       "      <th>8261</th>\n",
       "      <td>ICA0088</td>\n",
       "      <td>Incase Leather Strap Band Apple Watch 42mm brown</td>\n",
       "      <td>Genuine leather strap with stainless steel buckle Apple Watch 42 mm</td>\n",
       "      <td>59.95</td>\n",
       "      <td>1</td>\n",
       "      <td>2449</td>\n",
       "    </tr>\n",
       "    <tr>\n",
       "      <th>6497</th>\n",
       "      <td>XDO0038</td>\n",
       "      <td>X-Doria Metal Mesh Strap Watch 38mm Silver Apple</td>\n",
       "      <td>Mesh belt stainless steel X-Doria for Apple Watch 38mm Silver</td>\n",
       "      <td>49.99</td>\n",
       "      <td>0</td>\n",
       "      <td>2449</td>\n",
       "    </tr>\n",
       "    <tr>\n",
       "      <th>2327</th>\n",
       "      <td>XDO0016</td>\n",
       "      <td>X-Doria Lux Apple Watch Strap 38mm brown</td>\n",
       "      <td>Leather strap for easy installation Apple Watch.</td>\n",
       "      <td>49.99</td>\n",
       "      <td>0</td>\n",
       "      <td>2449</td>\n",
       "    </tr>\n",
       "    <tr>\n",
       "      <th>8260</th>\n",
       "      <td>ICA0084</td>\n",
       "      <td>Incase Nylon Nato Strap Black 38mm Apple Watch</td>\n",
       "      <td>Nylon strap with adjustable finish anodized aluminum pin Apple Watch 38 mm</td>\n",
       "      <td>39.95</td>\n",
       "      <td>1</td>\n",
       "      <td>2449</td>\n",
       "    </tr>\n",
       "    <tr>\n",
       "      <th>10071</th>\n",
       "      <td>APP2613</td>\n",
       "      <td>Correa Apple Nike Sport 38mm Pure Platinum / Black</td>\n",
       "      <td>Nike belt shrunk for Apple Watch 38mm</td>\n",
       "      <td>59.00</td>\n",
       "      <td>0</td>\n",
       "      <td>2449</td>\n",
       "    </tr>\n",
       "    <tr>\n",
       "      <th>5620</th>\n",
       "      <td>APP1795</td>\n",
       "      <td>Apple Correa 38mm Coffee Braided Nylon / Candy</td>\n",
       "      <td>Braided nylon strap with four layers of tissue for Apple Watch 38 mm</td>\n",
       "      <td>59.00</td>\n",
       "      <td>0</td>\n",
       "      <td>2449</td>\n",
       "    </tr>\n",
       "    <tr>\n",
       "      <th>10266</th>\n",
       "      <td>APP2614</td>\n",
       "      <td>Correa Apple Nike Sport 42mm Pure Platinum / Black</td>\n",
       "      <td>Nike belt shrunk for Apple Watch 42mm</td>\n",
       "      <td>59.00</td>\n",
       "      <td>0</td>\n",
       "      <td>2449</td>\n",
       "    </tr>\n",
       "    <tr>\n",
       "      <th>2326</th>\n",
       "      <td>XDO0020</td>\n",
       "      <td>X-Doria Lux Apple Watch Strap 42mm Black Croc</td>\n",
       "      <td>Leather strap for easy installation Apple Watch.</td>\n",
       "      <td>30.99</td>\n",
       "      <td>1</td>\n",
       "      <td>2449</td>\n",
       "    </tr>\n",
       "    <tr>\n",
       "      <th>2667</th>\n",
       "      <td>XDO0021</td>\n",
       "      <td>X-Doria Lux Apple Watch Strap 38mm White Croc</td>\n",
       "      <td>Leather strap for easy installation Apple Watch.</td>\n",
       "      <td>30.99</td>\n",
       "      <td>1</td>\n",
       "      <td>2449</td>\n",
       "    </tr>\n",
       "    <tr>\n",
       "      <th>7919</th>\n",
       "      <td>APP2105</td>\n",
       "      <td>Apple Correa 38mm Sports Amarillo Polen</td>\n",
       "      <td>Durable and flexible strap sports lockable clip Apple Watch 38mm</td>\n",
       "      <td>59.00</td>\n",
       "      <td>0</td>\n",
       "      <td>2449</td>\n",
       "    </tr>\n",
       "    <tr>\n",
       "      <th>7924</th>\n",
       "      <td>APP2109</td>\n",
       "      <td>Apple Nike Sport Strap 38mm Purple Pearl / Clear PÌ¼rpura</td>\n",
       "      <td>Durable and flexible strap sports with clip closure Apple Watch 38 mm</td>\n",
       "      <td>59.00</td>\n",
       "      <td>0</td>\n",
       "      <td>2449</td>\n",
       "    </tr>\n",
       "    <tr>\n",
       "      <th>9866</th>\n",
       "      <td>HOC0008-A</td>\n",
       "      <td>Open - Hoco Milanese Edition Apple Watch Strap 42mm Silver</td>\n",
       "      <td>Stainless steel strap silver Hoco Reconditioned Apple Watch 42mm</td>\n",
       "      <td>89.00</td>\n",
       "      <td>0</td>\n",
       "      <td>2449</td>\n",
       "    </tr>\n",
       "    <tr>\n",
       "      <th>8255</th>\n",
       "      <td>ICA0086</td>\n",
       "      <td>Incase Leather Strap Band Apple Watch 42mm Black</td>\n",
       "      <td>Nylon belt finish and adjustable buckle anodized aluminum Apple Watch 42 mm</td>\n",
       "      <td>59.95</td>\n",
       "      <td>1</td>\n",
       "      <td>2449</td>\n",
       "    </tr>\n",
       "    <tr>\n",
       "      <th>5611</th>\n",
       "      <td>APP1793</td>\n",
       "      <td>Apple Correa 42mm Sport Cacao</td>\n",
       "      <td>durable and flexible sports strap with clip closure for Apple Watch 42 mm</td>\n",
       "      <td>59.00</td>\n",
       "      <td>0</td>\n",
       "      <td>2449</td>\n",
       "    </tr>\n",
       "    <tr>\n",
       "      <th>8259</th>\n",
       "      <td>ICA0085</td>\n",
       "      <td>Incase Nylon Nato Strap 38mm Red Apple Watch</td>\n",
       "      <td>Nylon belt finish and adjustable buckle anodized aluminum Apple Watch 42 mm</td>\n",
       "      <td>39.95</td>\n",
       "      <td>1</td>\n",
       "      <td>2449</td>\n",
       "    </tr>\n",
       "    <tr>\n",
       "      <th>6499</th>\n",
       "      <td>XDO0035</td>\n",
       "      <td>X-Doria Metal Mesh Strap Watch 42mm Black Apple</td>\n",
       "      <td>Mesh belt stainless steel X-Doria for Apple Watch 42mm color Black</td>\n",
       "      <td>49.99</td>\n",
       "      <td>0</td>\n",
       "      <td>2449</td>\n",
       "    </tr>\n",
       "    <tr>\n",
       "      <th>10069</th>\n",
       "      <td>APP2598</td>\n",
       "      <td>Apple 38mm Belt Loop Deportiva Náåácar</td>\n",
       "      <td>Durable and flexible strap sports lockable clip Apple Watch 38mm</td>\n",
       "      <td>59.00</td>\n",
       "      <td>0</td>\n",
       "      <td>2449</td>\n",
       "    </tr>\n",
       "    <tr>\n",
       "      <th>7145</th>\n",
       "      <td>HOC0008</td>\n",
       "      <td>Nike hoco Series Apple Watch Strap 42mm Black / Gray</td>\n",
       "      <td>Silicone Strap Sports Watch 42mm Apple</td>\n",
       "      <td>45.00</td>\n",
       "      <td>0</td>\n",
       "      <td>2449</td>\n",
       "    </tr>\n",
       "    <tr>\n",
       "      <th>8256</th>\n",
       "      <td>ICA0082</td>\n",
       "      <td>Incase Leather Strap Band Apple Watch 38mm Black</td>\n",
       "      <td>Genuine leather strap with stainless steel buckle Apple Watch 38 mm</td>\n",
       "      <td>59.95</td>\n",
       "      <td>1</td>\n",
       "      <td>2449</td>\n",
       "    </tr>\n",
       "    <tr>\n",
       "      <th>6762</th>\n",
       "      <td>NOM0025</td>\n",
       "      <td>Nomad Apple Watch Strap Silicone Strap 42mm Silver</td>\n",
       "      <td>Silver silicone strap for Apple Watch 42mm</td>\n",
       "      <td>39.99</td>\n",
       "      <td>1</td>\n",
       "      <td>2449</td>\n",
       "    </tr>\n",
       "    <tr>\n",
       "      <th>5625</th>\n",
       "      <td>APP1799</td>\n",
       "      <td>Apple Correa 42mm Coffee Braided Nylon / Candy</td>\n",
       "      <td>Braided nylon strap with four layers of tissue for Apple Watch 42 mm</td>\n",
       "      <td>59.00</td>\n",
       "      <td>0</td>\n",
       "      <td>2449</td>\n",
       "    </tr>\n",
       "    <tr>\n",
       "      <th>6496</th>\n",
       "      <td>XDO0036</td>\n",
       "      <td>X-Doria Metal Mesh Strap Watch 42mm Silver Apple</td>\n",
       "      <td>Mesh belt stainless steel X-Doria for Apple Watch 42mm Silver</td>\n",
       "      <td>49.99</td>\n",
       "      <td>0</td>\n",
       "      <td>2449</td>\n",
       "    </tr>\n",
       "    <tr>\n",
       "      <th>3387</th>\n",
       "      <td>CYG0071</td>\n",
       "      <td>Cygnett Luxlink Metal strap for Apple Watch 42mm Silver</td>\n",
       "      <td>Metal strap for easy installation Apple Watch 42mm.</td>\n",
       "      <td>59.99</td>\n",
       "      <td>0</td>\n",
       "      <td>2449</td>\n",
       "    </tr>\n",
       "    <tr>\n",
       "      <th>3640</th>\n",
       "      <td>BAN0018</td>\n",
       "      <td>Band &amp; Strap Elemetal Apple Watch Strap 42mm Silver</td>\n",
       "      <td>Metal strap for easy installation Apple Watch 42mm.</td>\n",
       "      <td>99.00</td>\n",
       "      <td>0</td>\n",
       "      <td>2449</td>\n",
       "    </tr>\n",
       "    <tr>\n",
       "      <th>7137</th>\n",
       "      <td>HOC0015</td>\n",
       "      <td>Hoco Milanese Edition Apple Watch Strap Black 38mm</td>\n",
       "      <td>Stainless steel strap Hoco black color for Apple Watch 38mm</td>\n",
       "      <td>89.00</td>\n",
       "      <td>1</td>\n",
       "      <td>2449</td>\n",
       "    </tr>\n",
       "    <tr>\n",
       "      <th>9748</th>\n",
       "      <td>APP2102-A</td>\n",
       "      <td>Open - Apple 42mm Strap Sports Amarillo Polen</td>\n",
       "      <td>Durable and flexible strap sports with clip closure Apple Watch 42 mm</td>\n",
       "      <td>59.00</td>\n",
       "      <td>0</td>\n",
       "      <td>2449</td>\n",
       "    </tr>\n",
       "    <tr>\n",
       "      <th>2324</th>\n",
       "      <td>XDO0018</td>\n",
       "      <td>X-Doria Lux Apple Watch Strap 42mm brown</td>\n",
       "      <td>Leather strap for easy installation Apple Watch.</td>\n",
       "      <td>49.99</td>\n",
       "      <td>0</td>\n",
       "      <td>2449</td>\n",
       "    </tr>\n",
       "    <tr>\n",
       "      <th>5601</th>\n",
       "      <td>APP1788</td>\n",
       "      <td>Apple Correa Rosa 38mm Sport Arena</td>\n",
       "      <td>Durable and flexible strap sports with clip closure for Apple Watch 38mm</td>\n",
       "      <td>59.00</td>\n",
       "      <td>0</td>\n",
       "      <td>2449</td>\n",
       "    </tr>\n",
       "    <tr>\n",
       "      <th>6752</th>\n",
       "      <td>NOM0023</td>\n",
       "      <td>Nomad Horween Leather Strap Leather strap brown 42mm Apple Watch / Silver</td>\n",
       "      <td>Brown leather belt with silver buckle for 42mm Apple Watch</td>\n",
       "      <td>59.95</td>\n",
       "      <td>0</td>\n",
       "      <td>2449</td>\n",
       "    </tr>\n",
       "    <tr>\n",
       "      <th>5628</th>\n",
       "      <td>APP1802</td>\n",
       "      <td>Braided Strap 42mm Nailon Apple Yellow / Light Gray</td>\n",
       "      <td>Braided nylon strap with four layers of tissue for Apple Watch 42 mm</td>\n",
       "      <td>59.00</td>\n",
       "      <td>0</td>\n",
       "      <td>2449</td>\n",
       "    </tr>\n",
       "    <tr>\n",
       "      <th>5627</th>\n",
       "      <td>APP1801</td>\n",
       "      <td>Apple Correa 42mm Braiding Nailon Pale Pink / Blue Night</td>\n",
       "      <td>Braided nylon strap with four layers of tissue for Apple Watch 42 mm</td>\n",
       "      <td>59.00</td>\n",
       "      <td>0</td>\n",
       "      <td>2449</td>\n",
       "    </tr>\n",
       "    <tr>\n",
       "      <th>7929</th>\n",
       "      <td>APP2114</td>\n",
       "      <td>Apple Nike Sport Strap 42mm Lila / White</td>\n",
       "      <td>Durable and flexible strap sports with clip closure Apple Watch 42 mm</td>\n",
       "      <td>59.00</td>\n",
       "      <td>0</td>\n",
       "      <td>2449</td>\n",
       "    </tr>\n",
       "    <tr>\n",
       "      <th>7917</th>\n",
       "      <td>APP2103</td>\n",
       "      <td>Apple Correa Sport 38mm Blue Haze</td>\n",
       "      <td>Durable and flexible strap sports lockable clip Apple Watch 38mm</td>\n",
       "      <td>59.00</td>\n",
       "      <td>0</td>\n",
       "      <td>2449</td>\n",
       "    </tr>\n",
       "    <tr>\n",
       "      <th>10265</th>\n",
       "      <td>APP2619</td>\n",
       "      <td>Apple Correa Deportiva 42mm Gray</td>\n",
       "      <td>Durable and flexible strap sports with clip closure Apple Watch 42 mm</td>\n",
       "      <td>59.00</td>\n",
       "      <td>0</td>\n",
       "      <td>2449</td>\n",
       "    </tr>\n",
       "    <tr>\n",
       "      <th>5610</th>\n",
       "      <td>APP1792</td>\n",
       "      <td>Apple Correa Rosa 42mm Sport Arena</td>\n",
       "      <td>durable and flexible sports strap with clip closure for Apple Watch 42 mm</td>\n",
       "      <td>59.00</td>\n",
       "      <td>1</td>\n",
       "      <td>2449</td>\n",
       "    </tr>\n",
       "    <tr>\n",
       "      <th>3627</th>\n",
       "      <td>BAN0007</td>\n",
       "      <td>Panama Band &amp; Strap Watch Strap Black 42mm Apple</td>\n",
       "      <td>Leather strap for easy installation Apple Watch 42mm.</td>\n",
       "      <td>59.00</td>\n",
       "      <td>0</td>\n",
       "      <td>2449</td>\n",
       "    </tr>\n",
       "    <tr>\n",
       "      <th>10411</th>\n",
       "      <td>HOC0025</td>\n",
       "      <td>Hoco Grand Series Metal strap 38mm Apple Watch Silver</td>\n",
       "      <td>Stainless steel strap Hoco for Apple Watch 38mm.</td>\n",
       "      <td>54.99</td>\n",
       "      <td>1</td>\n",
       "      <td>2449</td>\n",
       "    </tr>\n",
       "    <tr>\n",
       "      <th>5597</th>\n",
       "      <td>APP1787</td>\n",
       "      <td>Apple Correa 38mm Sport Gray Cement</td>\n",
       "      <td>Durable and flexible strap sports with clip closure for Apple Watch 38mm</td>\n",
       "      <td>59.00</td>\n",
       "      <td>0</td>\n",
       "      <td>2449</td>\n",
       "    </tr>\n",
       "    <tr>\n",
       "      <th>10415</th>\n",
       "      <td>HOC0028</td>\n",
       "      <td>Hoco Grand Series Metal 42mm Apple Watch Strap Black</td>\n",
       "      <td>Stainless steel strap Hoco for Apple Watch 42mm.</td>\n",
       "      <td>65.99</td>\n",
       "      <td>0</td>\n",
       "      <td>2449</td>\n",
       "    </tr>\n",
       "  </tbody>\n",
       "</table>\n",
       "</div>"
      ],
      "text/plain": [
       "             sku  \\\n",
       "5605     APP1790   \n",
       "3638     BAN0016   \n",
       "2328     XDO0017   \n",
       "8257     ICA0083   \n",
       "7918     APP2104   \n",
       "5621     APP1796   \n",
       "8258     ICA0087   \n",
       "5613     APP1803   \n",
       "5622     APP1797   \n",
       "7140     HOC0014   \n",
       "3634     BAN0012   \n",
       "8261     ICA0088   \n",
       "6497     XDO0038   \n",
       "2327     XDO0016   \n",
       "8260     ICA0084   \n",
       "10071    APP2613   \n",
       "5620     APP1795   \n",
       "10266    APP2614   \n",
       "2326     XDO0020   \n",
       "2667     XDO0021   \n",
       "7919     APP2105   \n",
       "7924     APP2109   \n",
       "9866   HOC0008-A   \n",
       "8255     ICA0086   \n",
       "5611     APP1793   \n",
       "8259     ICA0085   \n",
       "6499     XDO0035   \n",
       "10069    APP2598   \n",
       "7145     HOC0008   \n",
       "8256     ICA0082   \n",
       "6762     NOM0025   \n",
       "5625     APP1799   \n",
       "6496     XDO0036   \n",
       "3387     CYG0071   \n",
       "3640     BAN0018   \n",
       "7137     HOC0015   \n",
       "9748   APP2102-A   \n",
       "2324     XDO0018   \n",
       "5601     APP1788   \n",
       "6752     NOM0023   \n",
       "5628     APP1802   \n",
       "5627     APP1801   \n",
       "7929     APP2114   \n",
       "7917     APP2103   \n",
       "10265    APP2619   \n",
       "5610     APP1792   \n",
       "3627     BAN0007   \n",
       "10411    HOC0025   \n",
       "5597     APP1787   \n",
       "10415    HOC0028   \n",
       "\n",
       "                                                                            name  \\\n",
       "5605                                         Apple Correa 38mm Sports Blue Ocean   \n",
       "3638                             Force Band & Strap 42mm Apple Watch Strap Black   \n",
       "2328                                    X-Doria Lux Apple Watch Strap Black 38mm   \n",
       "8257                            Incase Leather Strap Band Apple Watch 38mm brown   \n",
       "7918                                   Apple Correa 38mm Deportiva Rosa Flamenco   \n",
       "5621                  Apple Strap Orange 38mm Braiding Nailon Space / Anthracite   \n",
       "8258                                Incase Nylon Nato Strap 42mm Red Apple Watch   \n",
       "5613                                    Apple Classic buckle strap 38mm Blue Sea   \n",
       "5622                    Apple Correa 38mm Braiding Nailon Pale Pink / Blue Night   \n",
       "7140                         Hoco Milanese Edition Apple Watch Strap 42mm Silver   \n",
       "3634                              Panama Band & Strap Strap Red 42mm Apple Watch   \n",
       "8261                            Incase Leather Strap Band Apple Watch 42mm brown   \n",
       "6497                            X-Doria Metal Mesh Strap Watch 38mm Silver Apple   \n",
       "2327                                    X-Doria Lux Apple Watch Strap 38mm brown   \n",
       "8260                              Incase Nylon Nato Strap Black 38mm Apple Watch   \n",
       "10071                         Correa Apple Nike Sport 38mm Pure Platinum / Black   \n",
       "5620                              Apple Correa 38mm Coffee Braided Nylon / Candy   \n",
       "10266                         Correa Apple Nike Sport 42mm Pure Platinum / Black   \n",
       "2326                               X-Doria Lux Apple Watch Strap 42mm Black Croc   \n",
       "2667                               X-Doria Lux Apple Watch Strap 38mm White Croc   \n",
       "7919                                     Apple Correa 38mm Sports Amarillo Polen   \n",
       "7924                   Apple Nike Sport Strap 38mm Purple Pearl / Clear PÌ¼rpura   \n",
       "9866                  Open - Hoco Milanese Edition Apple Watch Strap 42mm Silver   \n",
       "8255                            Incase Leather Strap Band Apple Watch 42mm Black   \n",
       "5611                                               Apple Correa 42mm Sport Cacao   \n",
       "8259                                Incase Nylon Nato Strap 38mm Red Apple Watch   \n",
       "6499                             X-Doria Metal Mesh Strap Watch 42mm Black Apple   \n",
       "10069                                     Apple 38mm Belt Loop Deportiva Náåácar   \n",
       "7145                        Nike hoco Series Apple Watch Strap 42mm Black / Gray   \n",
       "8256                            Incase Leather Strap Band Apple Watch 38mm Black   \n",
       "6762                          Nomad Apple Watch Strap Silicone Strap 42mm Silver   \n",
       "5625                              Apple Correa 42mm Coffee Braided Nylon / Candy   \n",
       "6496                            X-Doria Metal Mesh Strap Watch 42mm Silver Apple   \n",
       "3387                     Cygnett Luxlink Metal strap for Apple Watch 42mm Silver   \n",
       "3640                         Band & Strap Elemetal Apple Watch Strap 42mm Silver   \n",
       "7137                          Hoco Milanese Edition Apple Watch Strap Black 38mm   \n",
       "9748                               Open - Apple 42mm Strap Sports Amarillo Polen   \n",
       "2324                                    X-Doria Lux Apple Watch Strap 42mm brown   \n",
       "5601                                          Apple Correa Rosa 38mm Sport Arena   \n",
       "6752   Nomad Horween Leather Strap Leather strap brown 42mm Apple Watch / Silver   \n",
       "5628                         Braided Strap 42mm Nailon Apple Yellow / Light Gray   \n",
       "5627                    Apple Correa 42mm Braiding Nailon Pale Pink / Blue Night   \n",
       "7929                                    Apple Nike Sport Strap 42mm Lila / White   \n",
       "7917                                           Apple Correa Sport 38mm Blue Haze   \n",
       "10265                                           Apple Correa Deportiva 42mm Gray   \n",
       "5610                                          Apple Correa Rosa 42mm Sport Arena   \n",
       "3627                            Panama Band & Strap Watch Strap Black 42mm Apple   \n",
       "10411                      Hoco Grand Series Metal strap 38mm Apple Watch Silver   \n",
       "5597                                         Apple Correa 38mm Sport Gray Cement   \n",
       "10415                       Hoco Grand Series Metal 42mm Apple Watch Strap Black   \n",
       "\n",
       "                                                                              desc  \\\n",
       "5605      Durable and flexible strap sports with clip closure for Apple Watch 38mm   \n",
       "3638                          Fabric strap for easy installation Apple Watch 42mm.   \n",
       "2328                              Leather strap for easy installation Apple Watch.   \n",
       "8257           Genuine leather strap with stainless steel buckle Apple Watch 38 mm   \n",
       "7918              Durable and flexible strap sports lockable clip Apple Watch 38mm   \n",
       "5621          Braided nylon strap with four layers of tissue for Apple Watch 38 mm   \n",
       "8258   Nylon belt finish and adjustable buckle anodized aluminum Apple Watch 42 mm   \n",
       "5613           Apple strap classic design with calfskin tone for Apple Watch 38 mm   \n",
       "5622          Braided nylon strap with four layers of tissue for Apple Watch 38 mm   \n",
       "7140                        Stainless steel strap silver Hoco for Apple Watch 42mm   \n",
       "3634                         Leather strap for easy installation Apple Watch 42mm.   \n",
       "8261           Genuine leather strap with stainless steel buckle Apple Watch 42 mm   \n",
       "6497                 Mesh belt stainless steel X-Doria for Apple Watch 38mm Silver   \n",
       "2327                              Leather strap for easy installation Apple Watch.   \n",
       "8260    Nylon strap with adjustable finish anodized aluminum pin Apple Watch 38 mm   \n",
       "10071                                        Nike belt shrunk for Apple Watch 38mm   \n",
       "5620          Braided nylon strap with four layers of tissue for Apple Watch 38 mm   \n",
       "10266                                        Nike belt shrunk for Apple Watch 42mm   \n",
       "2326                              Leather strap for easy installation Apple Watch.   \n",
       "2667                              Leather strap for easy installation Apple Watch.   \n",
       "7919              Durable and flexible strap sports lockable clip Apple Watch 38mm   \n",
       "7924         Durable and flexible strap sports with clip closure Apple Watch 38 mm   \n",
       "9866              Stainless steel strap silver Hoco Reconditioned Apple Watch 42mm   \n",
       "8255   Nylon belt finish and adjustable buckle anodized aluminum Apple Watch 42 mm   \n",
       "5611     durable and flexible sports strap with clip closure for Apple Watch 42 mm   \n",
       "8259   Nylon belt finish and adjustable buckle anodized aluminum Apple Watch 42 mm   \n",
       "6499            Mesh belt stainless steel X-Doria for Apple Watch 42mm color Black   \n",
       "10069             Durable and flexible strap sports lockable clip Apple Watch 38mm   \n",
       "7145                                        Silicone Strap Sports Watch 42mm Apple   \n",
       "8256           Genuine leather strap with stainless steel buckle Apple Watch 38 mm   \n",
       "6762                                    Silver silicone strap for Apple Watch 42mm   \n",
       "5625          Braided nylon strap with four layers of tissue for Apple Watch 42 mm   \n",
       "6496                 Mesh belt stainless steel X-Doria for Apple Watch 42mm Silver   \n",
       "3387                           Metal strap for easy installation Apple Watch 42mm.   \n",
       "3640                           Metal strap for easy installation Apple Watch 42mm.   \n",
       "7137                   Stainless steel strap Hoco black color for Apple Watch 38mm   \n",
       "9748         Durable and flexible strap sports with clip closure Apple Watch 42 mm   \n",
       "2324                              Leather strap for easy installation Apple Watch.   \n",
       "5601      Durable and flexible strap sports with clip closure for Apple Watch 38mm   \n",
       "6752                    Brown leather belt with silver buckle for 42mm Apple Watch   \n",
       "5628          Braided nylon strap with four layers of tissue for Apple Watch 42 mm   \n",
       "5627          Braided nylon strap with four layers of tissue for Apple Watch 42 mm   \n",
       "7929         Durable and flexible strap sports with clip closure Apple Watch 42 mm   \n",
       "7917              Durable and flexible strap sports lockable clip Apple Watch 38mm   \n",
       "10265        Durable and flexible strap sports with clip closure Apple Watch 42 mm   \n",
       "5610     durable and flexible sports strap with clip closure for Apple Watch 42 mm   \n",
       "3627                         Leather strap for easy installation Apple Watch 42mm.   \n",
       "10411                             Stainless steel strap Hoco for Apple Watch 38mm.   \n",
       "5597      Durable and flexible strap sports with clip closure for Apple Watch 38mm   \n",
       "10415                             Stainless steel strap Hoco for Apple Watch 42mm.   \n",
       "\n",
       "        price  in_stock  type  \n",
       "5605    59.00         0  2449  \n",
       "3638    69.00         0  2449  \n",
       "2328    30.99         0  2449  \n",
       "8257    59.95         0  2449  \n",
       "7918    59.00         0  2449  \n",
       "5621    59.00         0  2449  \n",
       "8258    39.95         1  2449  \n",
       "5613   159.00         0  2449  \n",
       "5622    59.00         0  2449  \n",
       "7140    89.00         0  2449  \n",
       "3634    59.00         0  2449  \n",
       "8261    59.95         1  2449  \n",
       "6497    49.99         0  2449  \n",
       "2327    49.99         0  2449  \n",
       "8260    39.95         1  2449  \n",
       "10071   59.00         0  2449  \n",
       "5620    59.00         0  2449  \n",
       "10266   59.00         0  2449  \n",
       "2326    30.99         1  2449  \n",
       "2667    30.99         1  2449  \n",
       "7919    59.00         0  2449  \n",
       "7924    59.00         0  2449  \n",
       "9866    89.00         0  2449  \n",
       "8255    59.95         1  2449  \n",
       "5611    59.00         0  2449  \n",
       "8259    39.95         1  2449  \n",
       "6499    49.99         0  2449  \n",
       "10069   59.00         0  2449  \n",
       "7145    45.00         0  2449  \n",
       "8256    59.95         1  2449  \n",
       "6762    39.99         1  2449  \n",
       "5625    59.00         0  2449  \n",
       "6496    49.99         0  2449  \n",
       "3387    59.99         0  2449  \n",
       "3640    99.00         0  2449  \n",
       "7137    89.00         1  2449  \n",
       "9748    59.00         0  2449  \n",
       "2324    49.99         0  2449  \n",
       "5601    59.00         0  2449  \n",
       "6752    59.95         0  2449  \n",
       "5628    59.00         0  2449  \n",
       "5627    59.00         0  2449  \n",
       "7929    59.00         0  2449  \n",
       "7917    59.00         0  2449  \n",
       "10265   59.00         0  2449  \n",
       "5610    59.00         1  2449  \n",
       "3627    59.00         0  2449  \n",
       "10411   54.99         1  2449  \n",
       "5597    59.00         0  2449  \n",
       "10415   65.99         0  2449  "
      ]
     },
     "execution_count": 5,
     "metadata": {},
     "output_type": "execute_result"
    }
   ],
   "source": [
    "idx = 24\n",
    "print(f\"Type: {top_types[idx]}, Count: {products.loc[products['type'] == top_types[idx], 'sku'].count()}\")\n",
    "products.loc[products[\"type\"] == top_types[idx]].sample(50)"
   ]
  },
  {
   "cell_type": "markdown",
   "metadata": {
    "id": "xQW2IqoepHZX"
   },
   "source": [
    "## Categorize types"
   ]
  },
  {
   "cell_type": "code",
   "execution_count": 9,
   "metadata": {
    "id": "gLagHDuCpL9g",
    "tags": []
   },
   "outputs": [],
   "source": [
    "# 1. Accessories\n",
    "accessories = ['11865403', '1298', '12635403', '13835403', '12585395', '1325', '2449', '13615399', '13555403', '1229', '1515', ]\n",
    "\n",
    "# 2. Hard drives\n",
    "hard_drives = ['11935397', '1364', '1433', '12215397', '12655397', '57445397']\n",
    "\n",
    "# 3. Computers\n",
    "computers = ['1282', '5,74E+15', '1,02E+12', '2158']\n",
    "\n",
    "# 4. Internet\n",
    "internet = ['12175397', '1334', '12995397']\n",
    "\n",
    "# 5. Repair services\n",
    "repair_services = ['1,44E+11']\n",
    "\n",
    "# 6. Gadgets\n",
    "gadgets = ['11905404']\n",
    "\n",
    "# 7. Tablets\n",
    "tablets = ['1405']\n",
    "\n",
    "# 8. Monitors\n",
    "monitors = ['1296']\n",
    "\n",
    "# 9. Audio\n",
    "audio = ['5384', '5398']\n",
    "\n",
    "\n",
    "\n",
    "## Extra categories\n",
    "# 11. iPhones\n",
    "iphone_regex = re.compile(r\"Apple iPhone .{1,2} .*\", flags=re.IGNORECASE)\n",
    "iphones = products.loc[products.name.str.contains(iphone_regex, regex=True), \"type\"].unique().tolist()\n",
    "\n",
    "# iPads --> goes into tablets\n",
    "ipad_regex = re.compile(r\"^(?!.*\\b(Case|Cover)\\b)(?=.*\\bApple iPad\\b).+$\", flags=re.IGNORECASE)\n",
    "ipads = products.loc[products.name.str.contains(ipad_regex, regex=True), \"type\"].unique().tolist()\n",
    "tablets += ipads \n",
    "\n",
    "# Keyboards and Mice\n",
    "keyboard_mice_regex = re.compile(r\".*(keyboard|mouse).*\", flags=re.IGNORECASE)\n",
    "keyboard_mice = products.loc[products.name.str.contains(keyboard_mice_regex, regex=True), \"type\"].unique().tolist()\n",
    "accessories += keyboard_mice\n"
   ]
  },
  {
   "cell_type": "markdown",
   "metadata": {
    "id": "vfDfd1RYzkxp"
   },
   "source": [
    "## Add categories to products data frame"
   ]
  },
  {
   "cell_type": "code",
   "execution_count": 10,
   "metadata": {
    "colab": {
     "base_uri": "https://localhost:8080/"
    },
    "id": "uNIp1IfVzovL",
    "outputId": "c20d7845-c777-47f1-8dc4-75e7a0c974f1",
    "tags": []
   },
   "outputs": [
    {
     "data": {
      "text/plain": [
       "iPhones        2119\n",
       "Accessories    1692\n",
       "Other          1531\n",
       "Hard drives    1428\n",
       "Internet       1318\n",
       "Computers       887\n",
       "Tablets         501\n",
       "Gadgets         472\n",
       "Audio           341\n",
       "Monitors        188\n",
       "Name: category, dtype: int64"
      ]
     },
     "execution_count": 10,
     "metadata": {},
     "output_type": "execute_result"
    }
   ],
   "source": [
    "products[\"category\"] = \"\"\n",
    "\n",
    "products.loc[products[\"type\"].isin(accessories), \"category\"] = \"Accessories\"\n",
    "products.loc[products[\"type\"].isin(hard_drives), \"category\"] = \"Hard drives\"\n",
    "products.loc[products[\"type\"].isin(computers), \"category\"] = \"Computers\"\n",
    "products.loc[products[\"type\"].isin(internet), \"category\"] = \"Internet\"\n",
    "products.loc[products[\"type\"].isin(repair_services), \"category\"] = \"Repair services\"\n",
    "products.loc[products[\"type\"].isin(gadgets), \"category\"] = \"Gadgets\"\n",
    "products.loc[products[\"type\"].isin(tablets), \"category\"] = \"Tablets\"\n",
    "products.loc[products[\"type\"].isin(monitors), \"category\"] = \"Monitors\"\n",
    "products.loc[products[\"type\"].isin(audio), \"category\"] = \"Audio\"\n",
    "products.loc[products[\"type\"].isin(iphones), \"category\"] = \"iPhones\"\n",
    "\n",
    "products.loc[products[\"category\"] == \"\", \"category\"] = \"Other\"\n",
    "\n",
    "products[\"category\"].value_counts()\n"
   ]
  },
  {
   "cell_type": "markdown",
   "metadata": {
    "id": "5-ggAYw12mez"
   },
   "source": [
    "## Create recycling categories\n"
   ]
  },
  {
   "cell_type": "code",
   "execution_count": 11,
   "metadata": {
    "colab": {
     "base_uri": "https://localhost:8080/"
    },
    "id": "IMu-8xC52rej",
    "outputId": "1c61b832-2dd5-4549-e873-464ef2bd938c",
    "tags": []
   },
   "outputs": [
    {
     "data": {
      "text/plain": [
       "New            8798\n",
       "Refurbished    1679\n",
       "Name: state, dtype: int64"
      ]
     },
     "execution_count": 11,
     "metadata": {},
     "output_type": "execute_result"
    }
   ],
   "source": [
    "products[\"state\"] = \"New\"\n",
    "\n",
    "recycling_regex = re.compile(r\"^(?=.*\\b(Open|Like new|refurbished|reconditioned|second hand)\\b).+$\", flags=re.IGNORECASE)\n",
    "products.loc[products.name.str.contains(recycling_regex, regex=True) | products.desc.str.contains(recycling_regex, regex=True), \"state\"] = \"Refurbished\"\n",
    "\n",
    "products[\"state\"].value_counts()"
   ]
  },
  {
   "cell_type": "markdown",
   "metadata": {
    "id": "WUtOesFr35Tl"
   },
   "source": [
    "## Create price categories\n"
   ]
  },
  {
   "cell_type": "code",
   "execution_count": 12,
   "metadata": {
    "colab": {
     "base_uri": "https://localhost:8080/"
    },
    "id": "9RJo-Hl_386O",
    "outputId": "20c2ac64-4468-4e58-c34b-a1c6f4b9cdb8",
    "tags": []
   },
   "outputs": [
    {
     "data": {
      "text/plain": [
       "Low       5246\n",
       "Medium    3354\n",
       "High      1877\n",
       "Name: price category, dtype: int64"
      ]
     },
     "execution_count": 12,
     "metadata": {},
     "output_type": "execute_result"
    }
   ],
   "source": [
    "products[\"price category\"] = pd.cut(products.price, [0, 100, 1000, 20000], labels=[\"Low\", \"Medium\", \"High\"])\n",
    "\n",
    "products[\"price category\"].value_counts()"
   ]
  },
  {
   "cell_type": "markdown",
   "metadata": {
    "id": "x3xFAvGd1tO3"
   },
   "source": [
    "## Plot pie charts"
   ]
  },
  {
   "cell_type": "code",
   "execution_count": 13,
   "metadata": {
    "colab": {
     "base_uri": "https://localhost:8080/",
     "height": 423
    },
    "id": "3jpl3ADM2ORA",
    "outputId": "ac3e1591-659a-4baa-aa09-fe8e19b0d70b",
    "tags": []
   },
   "outputs": [
    {
     "data": {
      "text/plain": [
       "<Axes: ylabel='None'>"
      ]
     },
     "execution_count": 13,
     "metadata": {},
     "output_type": "execute_result"
    },
    {
     "data": {
      "image/png": "[encoded data removed]",
      "text/plain": [
       "<Figure size 640x480 with 1 Axes>"
      ]
     },
     "metadata": {},
     "output_type": "display_data"
    }
   ],
   "source": [
    "# Product categories\n"
   ]
  },
  {
   "cell_type": "code",
   "execution_count": 14,
   "metadata": {
    "colab": {
     "base_uri": "https://localhost:8080/",
     "height": 423
    },
    "id": "bkSUShlU3uw8",
    "outputId": "39eb3a4b-99d6-42c1-c466-89f1e033ca16",
    "tags": []
   },
   "outputs": [
    {
     "data": {
      "text/plain": [
       "<Axes: ylabel='None'>"
      ]
     },
     "execution_count": 14,
     "metadata": {},
     "output_type": "execute_result"
    },
    {
     "data": {
      "image/png": "[encoded data removed]",
      "text/plain": [
       "<Figure size 640x480 with 1 Axes>"
      ]
     },
     "metadata": {},
     "output_type": "display_data"
    }
   ],
   "source": [
    "# State\n",
    "state_counts = products[[\"state\"]].value_counts()\n",
    "state_counts.plot.pie()"
   ]
  },
  {
   "cell_type": "code",
   "execution_count": 16,
   "metadata": {
    "colab": {
     "base_uri": "https://localhost:8080/",
     "height": 423
    },
    "id": "oozMuOgt5Kxu",
    "outputId": "5640659a-e408-4554-9f8d-b03146a6bc6c",
    "tags": []
   },
   "outputs": [
    {
     "data": {
      "text/plain": [
       "price category\n",
       "Low               5246\n",
       "Medium            3354\n",
       "High              1877\n",
       "dtype: int64"
      ]
     },
     "execution_count": 16,
     "metadata": {},
     "output_type": "execute_result"
    }
   ],
   "source": [
    "# Price categories\n",
    "price_counts = products[[\"price category\"]].value_counts()\n",
    "price_counts"
   ]
  },
  {
   "cell_type": "code",
   "execution_count": null,
   "metadata": {},
   "outputs": [],
   "source": []
  }
 ],
 "metadata": {
  "colab": {
   "provenance": []
  },
  "kernelspec": {
   "display_name": "Python 3 (ipykernel)",
   "language": "python",
   "name": "python3"
  },
  "language_info": {
   "codemirror_mode": {
    "name": "ipython",
    "version": 3
   },
   "file_extension": ".py",
   "mimetype": "text/x-python",
   "name": "python",
   "nbconvert_exporter": "python",
   "pygments_lexer": "ipython3",
   "version": "3.10.6"
  }
 },
 "nbformat": 4,
 "nbformat_minor": 4
}
